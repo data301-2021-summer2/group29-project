{
 "cells": [
  {
   "cell_type": "markdown",
   "id": "93841497-6abf-4628-83e4-ceafef5138cf",
   "metadata": {},
   "source": [
    "# This is where we perform the final analysis in Milestone 2"
   ]
  },
  {
   "cell_type": "code",
   "execution_count": null,
   "id": "0391b89d-3c3e-4d5e-beb2-eee790983902",
   "metadata": {},
   "outputs": [],
   "source": []
  }
 ],
 "metadata": {
  "kernelspec": {
   "display_name": "Python 3 (ipykernel)",
   "language": "python",
   "name": "python3"
  },
  "language_info": {
   "codemirror_mode": {
    "name": "ipython",
    "version": 3
   },
   "file_extension": ".py",
   "mimetype": "text/x-python",
   "name": "python",
   "nbconvert_exporter": "python",
   "pygments_lexer": "ipython3",
   "version": "3.8.5"
  }
 },
 "nbformat": 4,
 "nbformat_minor": 5
}
