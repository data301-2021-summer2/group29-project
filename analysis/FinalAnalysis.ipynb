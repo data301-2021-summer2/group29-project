{
 "cells": [
  {
   "cell_type": "markdown",
   "id": "fc450ab6",
   "metadata": {},
   "source": [
    "# This is where we perform the final analysis in Milestone 2"
   ]
  },
  {
   "cell_type": "markdown",
   "id": "7e48b183",
   "metadata": {},
   "source": [
    "## Prabhmeets Analysis"
   ]
  },
  {
   "cell_type": "code",
<<<<<<< HEAD
   "execution_count": 8,
=======
   "execution_count": null,
   "id": "2cdac197",
   "metadata": {},
   "outputs": [],
>>>>>>> 35c332ff0441b3b3381b93f0dfb1f54a7a37b10f
   "source": [
    "import pandas as pd\n",
    "from pandas_profiling import ProfileReport as pf\n",
    "import numpy as np\n",
    "from matplotlib import pyplot as plt\n",
    "import seaborn as sns\n",
    "%matplotlib inline\n",
    "## Using a seperate file to import our functions.\n",
    "from scripts import project_functions as fun \n",
    "%load_ext autoreload\n",
    "%autoreload 2\n",
    "from importlib import reload"
   ],
   "outputs": [
    {
     "output_type": "stream",
     "name": "stdout",
     "text": [
      "The autoreload extension is already loaded. To reload it, use:\n",
      "  %reload_ext autoreload\n"
     ]
    }
   ],
   "metadata": {}
  },
  {
   "cell_type": "code",
   "execution_count": 9,
   "source": [
    "# This part processes the data without any method chaining.\n",
    "dataSet= fun.load_process_Medical_Data('./../data/processed/Processed_Medical_Data.csv')\n",
    "dataSet"
<<<<<<< HEAD
   ],
   "outputs": [
    {
     "output_type": "execute_result",
     "data": {
      "text/plain": [
       "        bmi  Charges_USD BMI_Category\n",
       "0     27.90      16884.9   Overweight\n",
       "1     33.77       1725.6        Obese\n",
       "2     33.00       4449.5        Obese\n",
       "3     22.70      21984.5       Normal\n",
       "4     28.88       3866.9   Overweight\n",
       "...     ...          ...          ...\n",
       "1332  30.97      10600.5        Obese\n",
       "1333  31.92       2206.0        Obese\n",
       "1334  36.85       1629.8        Obese\n",
       "1335  25.80       2007.9   Overweight\n",
       "1336  29.07      29141.4   Overweight\n",
       "\n",
       "[1337 rows x 3 columns]"
      ],
      "text/html": [
       "<div>\n",
       "<style scoped>\n",
       "    .dataframe tbody tr th:only-of-type {\n",
       "        vertical-align: middle;\n",
       "    }\n",
       "\n",
       "    .dataframe tbody tr th {\n",
       "        vertical-align: top;\n",
       "    }\n",
       "\n",
       "    .dataframe thead th {\n",
       "        text-align: right;\n",
       "    }\n",
       "</style>\n",
       "<table border=\"1\" class=\"dataframe\">\n",
       "  <thead>\n",
       "    <tr style=\"text-align: right;\">\n",
       "      <th></th>\n",
       "      <th>bmi</th>\n",
       "      <th>Charges_USD</th>\n",
       "      <th>BMI_Category</th>\n",
       "    </tr>\n",
       "  </thead>\n",
       "  <tbody>\n",
       "    <tr>\n",
       "      <th>0</th>\n",
       "      <td>27.90</td>\n",
       "      <td>16884.9</td>\n",
       "      <td>Overweight</td>\n",
       "    </tr>\n",
       "    <tr>\n",
       "      <th>1</th>\n",
       "      <td>33.77</td>\n",
       "      <td>1725.6</td>\n",
       "      <td>Obese</td>\n",
       "    </tr>\n",
       "    <tr>\n",
       "      <th>2</th>\n",
       "      <td>33.00</td>\n",
       "      <td>4449.5</td>\n",
       "      <td>Obese</td>\n",
       "    </tr>\n",
       "    <tr>\n",
       "      <th>3</th>\n",
       "      <td>22.70</td>\n",
       "      <td>21984.5</td>\n",
       "      <td>Normal</td>\n",
       "    </tr>\n",
       "    <tr>\n",
       "      <th>4</th>\n",
       "      <td>28.88</td>\n",
       "      <td>3866.9</td>\n",
       "      <td>Overweight</td>\n",
       "    </tr>\n",
       "    <tr>\n",
       "      <th>...</th>\n",
       "      <td>...</td>\n",
       "      <td>...</td>\n",
       "      <td>...</td>\n",
       "    </tr>\n",
       "    <tr>\n",
       "      <th>1332</th>\n",
       "      <td>30.97</td>\n",
       "      <td>10600.5</td>\n",
       "      <td>Obese</td>\n",
       "    </tr>\n",
       "    <tr>\n",
       "      <th>1333</th>\n",
       "      <td>31.92</td>\n",
       "      <td>2206.0</td>\n",
       "      <td>Obese</td>\n",
       "    </tr>\n",
       "    <tr>\n",
       "      <th>1334</th>\n",
       "      <td>36.85</td>\n",
       "      <td>1629.8</td>\n",
       "      <td>Obese</td>\n",
       "    </tr>\n",
       "    <tr>\n",
       "      <th>1335</th>\n",
       "      <td>25.80</td>\n",
       "      <td>2007.9</td>\n",
       "      <td>Overweight</td>\n",
       "    </tr>\n",
       "    <tr>\n",
       "      <th>1336</th>\n",
       "      <td>29.07</td>\n",
       "      <td>29141.4</td>\n",
       "      <td>Overweight</td>\n",
       "    </tr>\n",
       "  </tbody>\n",
       "</table>\n",
       "<p>1337 rows × 3 columns</p>\n",
       "</div>"
      ]
     },
     "metadata": {},
     "execution_count": 9
    }
   ],
   "metadata": {}
  },
  {
   "cell_type": "code",
   "execution_count": 10,
   "source": [
    "randomSample = dataSet.groupby('BMI_Category').sample(n=20)\n",
    "randomSample"
   ],
   "outputs": [
    {
     "output_type": "execute_result",
     "data": {
      "text/plain": [
       "        bmi  Charges_USD BMI_Category\n",
       "583   20.70       1242.8       Normal\n",
       "70    24.75      16577.8       Normal\n",
       "1313  23.66      18765.9       Normal\n",
       "856   24.13      15818.0       Normal\n",
       "384   22.14       8302.5       Normal\n",
       "...     ...          ...          ...\n",
       "232   17.80       1727.8  Underweight\n",
       "949   18.34      11534.9  Underweight\n",
       "1285  17.29       3732.6  Underweight\n",
       "1225  16.82       6640.5  Underweight\n",
       "683   18.50       4766.0  Underweight\n",
       "\n",
       "[80 rows x 3 columns]"
      ],
      "text/html": [
       "<div>\n",
       "<style scoped>\n",
       "    .dataframe tbody tr th:only-of-type {\n",
       "        vertical-align: middle;\n",
       "    }\n",
       "\n",
       "    .dataframe tbody tr th {\n",
       "        vertical-align: top;\n",
       "    }\n",
       "\n",
       "    .dataframe thead th {\n",
       "        text-align: right;\n",
       "    }\n",
       "</style>\n",
       "<table border=\"1\" class=\"dataframe\">\n",
       "  <thead>\n",
       "    <tr style=\"text-align: right;\">\n",
       "      <th></th>\n",
       "      <th>bmi</th>\n",
       "      <th>Charges_USD</th>\n",
       "      <th>BMI_Category</th>\n",
       "    </tr>\n",
       "  </thead>\n",
       "  <tbody>\n",
       "    <tr>\n",
       "      <th>583</th>\n",
       "      <td>20.70</td>\n",
       "      <td>1242.8</td>\n",
       "      <td>Normal</td>\n",
       "    </tr>\n",
       "    <tr>\n",
       "      <th>70</th>\n",
       "      <td>24.75</td>\n",
       "      <td>16577.8</td>\n",
       "      <td>Normal</td>\n",
       "    </tr>\n",
       "    <tr>\n",
       "      <th>1313</th>\n",
       "      <td>23.66</td>\n",
       "      <td>18765.9</td>\n",
       "      <td>Normal</td>\n",
       "    </tr>\n",
       "    <tr>\n",
       "      <th>856</th>\n",
       "      <td>24.13</td>\n",
       "      <td>15818.0</td>\n",
       "      <td>Normal</td>\n",
       "    </tr>\n",
       "    <tr>\n",
       "      <th>384</th>\n",
       "      <td>22.14</td>\n",
       "      <td>8302.5</td>\n",
       "      <td>Normal</td>\n",
       "    </tr>\n",
       "    <tr>\n",
       "      <th>...</th>\n",
       "      <td>...</td>\n",
       "      <td>...</td>\n",
       "      <td>...</td>\n",
       "    </tr>\n",
       "    <tr>\n",
       "      <th>232</th>\n",
       "      <td>17.80</td>\n",
       "      <td>1727.8</td>\n",
       "      <td>Underweight</td>\n",
       "    </tr>\n",
       "    <tr>\n",
       "      <th>949</th>\n",
       "      <td>18.34</td>\n",
       "      <td>11534.9</td>\n",
       "      <td>Underweight</td>\n",
       "    </tr>\n",
       "    <tr>\n",
       "      <th>1285</th>\n",
       "      <td>17.29</td>\n",
       "      <td>3732.6</td>\n",
       "      <td>Underweight</td>\n",
       "    </tr>\n",
       "    <tr>\n",
       "      <th>1225</th>\n",
       "      <td>16.82</td>\n",
       "      <td>6640.5</td>\n",
       "      <td>Underweight</td>\n",
       "    </tr>\n",
       "    <tr>\n",
       "      <th>683</th>\n",
       "      <td>18.50</td>\n",
       "      <td>4766.0</td>\n",
       "      <td>Underweight</td>\n",
       "    </tr>\n",
       "  </tbody>\n",
       "</table>\n",
       "<p>80 rows × 3 columns</p>\n",
       "</div>"
      ]
     },
     "metadata": {},
     "execution_count": 10
    }
   ],
   "metadata": {}
  },
  {
   "cell_type": "markdown",
   "source": [
    "Now we will try to get new Summary statitics on randomly sampled data."
   ],
   "metadata": {}
  },
  {
   "cell_type": "code",
   "execution_count": 11,
   "source": [
    "randomSample.groupby('BMI_Category')['Charges_USD'].agg(['mean','std','min', 'median','max']).round(1).T"
   ],
   "outputs": [
    {
     "output_type": "execute_result",
     "data": {
      "text/plain": [
       "BMI_Category   Normal    Obese  Overweight  Underweight\n",
       "mean           8306.6  16455.7     10252.3       9005.8\n",
       "std            5087.1  14541.4      6971.7       7615.0\n",
       "min            1242.8   1526.3      1252.4       1621.3\n",
       "median         8144.5  11154.4      9152.8       6759.2\n",
       "max           18765.9  43896.4     25992.8      32734.2"
      ],
      "text/html": [
       "<div>\n",
       "<style scoped>\n",
       "    .dataframe tbody tr th:only-of-type {\n",
       "        vertical-align: middle;\n",
       "    }\n",
       "\n",
       "    .dataframe tbody tr th {\n",
       "        vertical-align: top;\n",
       "    }\n",
       "\n",
       "    .dataframe thead th {\n",
       "        text-align: right;\n",
       "    }\n",
       "</style>\n",
       "<table border=\"1\" class=\"dataframe\">\n",
       "  <thead>\n",
       "    <tr style=\"text-align: right;\">\n",
       "      <th>BMI_Category</th>\n",
       "      <th>Normal</th>\n",
       "      <th>Obese</th>\n",
       "      <th>Overweight</th>\n",
       "      <th>Underweight</th>\n",
       "    </tr>\n",
       "  </thead>\n",
       "  <tbody>\n",
       "    <tr>\n",
       "      <th>mean</th>\n",
       "      <td>8306.6</td>\n",
       "      <td>16455.7</td>\n",
       "      <td>10252.3</td>\n",
       "      <td>9005.8</td>\n",
       "    </tr>\n",
       "    <tr>\n",
       "      <th>std</th>\n",
       "      <td>5087.1</td>\n",
       "      <td>14541.4</td>\n",
       "      <td>6971.7</td>\n",
       "      <td>7615.0</td>\n",
       "    </tr>\n",
       "    <tr>\n",
       "      <th>min</th>\n",
       "      <td>1242.8</td>\n",
       "      <td>1526.3</td>\n",
       "      <td>1252.4</td>\n",
       "      <td>1621.3</td>\n",
       "    </tr>\n",
       "    <tr>\n",
       "      <th>median</th>\n",
       "      <td>8144.5</td>\n",
       "      <td>11154.4</td>\n",
       "      <td>9152.8</td>\n",
       "      <td>6759.2</td>\n",
       "    </tr>\n",
       "    <tr>\n",
       "      <th>max</th>\n",
       "      <td>18765.9</td>\n",
       "      <td>43896.4</td>\n",
       "      <td>25992.8</td>\n",
       "      <td>32734.2</td>\n",
       "    </tr>\n",
       "  </tbody>\n",
       "</table>\n",
       "</div>"
      ]
     },
     "metadata": {},
     "execution_count": 11
    }
   ],
   "metadata": {}
  },
  {
   "cell_type": "code",
   "execution_count": 12,
   "source": [
    "randomSample.groupby('BMI_Category').agg(['mean','std','median','min','max']).round(1).drop(columns={'bmi'})"
   ],
   "outputs": [
    {
     "output_type": "execute_result",
     "data": {
      "text/plain": [
       "             Charges_USD                                   \n",
       "                    mean      std   median     min      max\n",
       "BMI_Category                                               \n",
       "Normal            8306.6   5087.1   8144.5  1242.8  18765.9\n",
       "Obese            16455.7  14541.4  11154.4  1526.3  43896.4\n",
       "Overweight       10252.3   6971.7   9152.8  1252.4  25992.8\n",
       "Underweight       9005.8   7615.0   6759.2  1621.3  32734.2"
      ],
      "text/html": [
       "<div>\n",
       "<style scoped>\n",
       "    .dataframe tbody tr th:only-of-type {\n",
       "        vertical-align: middle;\n",
       "    }\n",
       "\n",
       "    .dataframe tbody tr th {\n",
       "        vertical-align: top;\n",
       "    }\n",
       "\n",
       "    .dataframe thead tr th {\n",
       "        text-align: left;\n",
       "    }\n",
       "\n",
       "    .dataframe thead tr:last-of-type th {\n",
       "        text-align: right;\n",
       "    }\n",
       "</style>\n",
       "<table border=\"1\" class=\"dataframe\">\n",
       "  <thead>\n",
       "    <tr>\n",
       "      <th></th>\n",
       "      <th colspan=\"5\" halign=\"left\">Charges_USD</th>\n",
       "    </tr>\n",
       "    <tr>\n",
       "      <th></th>\n",
       "      <th>mean</th>\n",
       "      <th>std</th>\n",
       "      <th>median</th>\n",
       "      <th>min</th>\n",
       "      <th>max</th>\n",
       "    </tr>\n",
       "    <tr>\n",
       "      <th>BMI_Category</th>\n",
       "      <th></th>\n",
       "      <th></th>\n",
       "      <th></th>\n",
       "      <th></th>\n",
       "      <th></th>\n",
       "    </tr>\n",
       "  </thead>\n",
       "  <tbody>\n",
       "    <tr>\n",
       "      <th>Normal</th>\n",
       "      <td>8306.6</td>\n",
       "      <td>5087.1</td>\n",
       "      <td>8144.5</td>\n",
       "      <td>1242.8</td>\n",
       "      <td>18765.9</td>\n",
       "    </tr>\n",
       "    <tr>\n",
       "      <th>Obese</th>\n",
       "      <td>16455.7</td>\n",
       "      <td>14541.4</td>\n",
       "      <td>11154.4</td>\n",
       "      <td>1526.3</td>\n",
       "      <td>43896.4</td>\n",
       "    </tr>\n",
       "    <tr>\n",
       "      <th>Overweight</th>\n",
       "      <td>10252.3</td>\n",
       "      <td>6971.7</td>\n",
       "      <td>9152.8</td>\n",
       "      <td>1252.4</td>\n",
       "      <td>25992.8</td>\n",
       "    </tr>\n",
       "    <tr>\n",
       "      <th>Underweight</th>\n",
       "      <td>9005.8</td>\n",
       "      <td>7615.0</td>\n",
       "      <td>6759.2</td>\n",
       "      <td>1621.3</td>\n",
       "      <td>32734.2</td>\n",
       "    </tr>\n",
       "  </tbody>\n",
       "</table>\n",
       "</div>"
      ]
     },
     "metadata": {},
     "execution_count": 12
    }
   ],
   "metadata": {}
=======
   ]
  },
  {
   "cell_type": "code",
   "execution_count": null,
   "id": "fdc6dfad",
   "metadata": {},
   "outputs": [],
   "source": [
    "randomSample.groupby('BMI_Category')['Charges_USD'].agg(['mean','std','min', 'median','max']).round(1).T"
   ]
  },
  {
   "cell_type": "code",
   "execution_count": null,
   "id": "2535b9e3",
   "metadata": {},
   "outputs": [],
   "source": [
    "randomSample.groupby('BMI_Category').agg(['mean','std','median','min','max']).round(1).drop(columns={'bmi'})"
   ]
>>>>>>> 35c332ff0441b3b3381b93f0dfb1f54a7a37b10f
  },
  {
   "cell_type": "markdown",
   "id": "13d759f0",
   "metadata": {},
   "source": [
    "## The following plots show that The Obese group still has the highest median Medcial Charges , although we do not see a linear trend from underweight to obese. i.e The Overweight did not show evidence of having a higher mean that Normal people, even though Obese people did."
   ]
  },
  {
   "cell_type": "code",
<<<<<<< HEAD
   "execution_count": 13,
=======
   "execution_count": null,
   "id": "42834b86",
   "metadata": {},
   "outputs": [],
>>>>>>> 35c332ff0441b3b3381b93f0dfb1f54a7a37b10f
   "source": [
    "fig, ax =plt.subplots(2,2,figsize=(15,10))\n",
    "\n",
    "boxplot = sns.boxplot(\n",
    "\tdata = randomSample,\n",
    "\tx=\"BMI_Category\",\n",
    "\ty=\"Charges_USD\",\n",
    "\torder=['Underweight','Normal','Overweight','Obese'],\n",
    "\tax=ax[0][0]\n",
    "\n",
    ")\n",
    "boxplot.set(\n",
    "\t#yscale=\"log\",\n",
    "\txlabel=\"BMI Category\",\n",
    "\tylabel=\"Mean Medical Charges in USD\",\n",
    "\ttitle=\"Boxplot\",\n",
    ")\n",
    "logboxplot = sns.boxplot(\n",
    "\tdata = randomSample,\n",
    "\tx=\"BMI_Category\",\n",
    "\ty=\"Charges_USD\",\n",
    "\torder=['Underweight','Normal','Overweight','Obese'],\n",
    "\tax=ax[0][1],\n",
    "\n",
    ")\n",
    "logboxplot.set(\n",
    "\tyscale=\"log\",\n",
    "\txlabel=\"BMI Category\",\n",
    "\tylabel=\"Log Transformed Mean Medical Charges in USD\",\n",
    "\ttitle=\"Log Transformed Boxplot\",\n",
    ")\n",
    "barplot = sns.barplot(\n",
    "\tdata = randomSample,\n",
    "\tx=\"BMI_Category\",\n",
    "\ty=\"Charges_USD\",\n",
    "\torder=['Underweight','Normal','Overweight','Obese'],\n",
    "\tax=ax[1][0],\n",
    ")\n",
    "barplot.set(\n",
    "\txlabel=\"BMI Category\",\n",
    "\tylabel=\"Mean Medical Charges in USD\",\n",
    "\ttitle=\"Barplot\",\n",
    ")\n",
    "logbarplot = sns.barplot(\n",
    "\tdata = randomSample,\n",
    "\tx=\"BMI_Category\",\n",
    "\ty=\"Charges_USD\",\n",
    "\torder=['Underweight','Normal','Overweight','Obese'],\n",
    "\tax=ax[1][1],\n",
    ")\n",
    "logbarplot.set(\n",
    "\tyscale=\"log\",\n",
    "\txlabel=\"BMI Category\",\n",
    "\tylabel=\"Log Transformed Mean Medical Charges in USD\",\n",
    "\ttitle=\"Log Transformed Barplot\",\n",
    ")\n",
    "fig.tight_layout(h_pad=4,w_pad=10)\n",
    "plt.suptitle(\"Different plots comapring mean Medical Charges of American Citizens\",y=1.05)\n",
    "fig.show()\n"
<<<<<<< HEAD
   ],
   "outputs": [
    {
     "output_type": "stream",
     "name": "stderr",
     "text": [
      "<ipython-input-13-17ebf572cb85>:58: UserWarning: Matplotlib is currently using module://matplotlib_inline.backend_inline, which is a non-GUI backend, so cannot show the figure.\n",
      "  fig.show()\n"
     ]
    },
    {
     "output_type": "display_data",
     "data": {
      "text/plain": [
       "<Figure size 1080x720 with 4 Axes>"
      ],
      "image/png": "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"
     },
     "metadata": {
      "needs_background": "light"
     }
    }
   ],
   "metadata": {}
=======
   ]
>>>>>>> 35c332ff0441b3b3381b93f0dfb1f54a7a37b10f
  },
  {
   "cell_type": "markdown",
   "id": "5189b112",
   "metadata": {},
   "source": [
    "Also the scatter plot before fail to show any linear co-relation between bmi and Medical Charges.\n"
   ]
  },
  {
   "cell_type": "code",
<<<<<<< HEAD
   "execution_count": 14,
=======
   "execution_count": null,
   "id": "56f04348",
   "metadata": {},
   "outputs": [],
>>>>>>> 35c332ff0441b3b3381b93f0dfb1f54a7a37b10f
   "source": [
    "fig, ax =plt.subplots(1,2,figsize=(15,5))\n",
    "scatter1=sns.scatterplot(\n",
    "\tdata=randomSample,\n",
    "\tx=\"bmi\",\n",
    "\ty=\"Charges_USD\",\n",
    "\thue=\"BMI_Category\",\n",
    "\tax=ax[0],\n",
    "\t)\n",
    "scatter1.set(\n",
    "\txlabel=\"BMI\",\n",
    "\tylabel=\"Medical Charges in USD\",\n",
    "\ttitle=\"Normal\",\n",
    ")\n",
    "scatter1=sns.scatterplot(\n",
    "\tdata=randomSample,\n",
    "\tx=\"bmi\",\n",
    "\ty=\"Charges_USD\",\n",
    "\thue=\"BMI_Category\",\n",
    "\tax=ax[1]\n",
    "\t)\n",
    "scatter1.set(\n",
    "\tyscale=\"log\",\n",
    "\txlabel=\"BMI\",\n",
    "\tylabel=\"Medical Charges in USD\",\n",
    "\ttitle=\"Log Transformed\",\n",
    ")\n",
    "plt.suptitle(\"Scatterplot Medical Charges of American Citizens\",y=1)\n",
    "fig.show()"
<<<<<<< HEAD
   ],
   "outputs": [
    {
     "output_type": "stream",
     "name": "stderr",
     "text": [
      "<ipython-input-14-c6d20a2a79f9>:28: UserWarning: Matplotlib is currently using module://matplotlib_inline.backend_inline, which is a non-GUI backend, so cannot show the figure.\n",
      "  fig.show()\n"
     ]
    },
    {
     "output_type": "display_data",
     "data": {
      "text/plain": [
       "<Figure size 1080x360 with 2 Axes>"
      ],
      "image/png": "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"
     },
     "metadata": {
      "needs_background": "light"
     }
    }
   ],
   "metadata": {}
=======
   ]
>>>>>>> 35c332ff0441b3b3381b93f0dfb1f54a7a37b10f
  },
  {
   "cell_type": "markdown",
   "id": "aaf1e818",
   "metadata": {},
   "source": [
    "## Research Conclusion.\n",
    "- As per the data explore , having a BMI over 25 in America did not seem to be related with higher medical Expenses.\n",
    "- Although it was found that more than 50% of Americans can be categorized as Obsese as per [CDC guidelines](https://www.cdc.gov/healthyweight/assessing/index.html). Although being Obese did seem to be related to higher Medical charges, a linear relationship between BMI and higher medical expenses was not observed. "
   ]
  },
  {
   "cell_type": "markdown",
   "id": "3fd7ae6d-c325-4693-8684-1adb0a122df2",
   "metadata": {},
   "source": [
    "## Ishita's Analysis"
   ]
  },
  {
   "cell_type": "markdown",
   "id": "47f3a051-1ec9-46f3-b564-5835c9d29170",
   "metadata": {},
   "source": [
    "*My Research questions:* \n",
    "- Does the geographical location play a part in increased medical costs?\n",
    "- Is there a relationship or correlation between being a smoker and having higher medical costs?\n",
    "\n"
   ]
  },
  {
   "cell_type": "markdown",
   "id": "0059a125-dbe2-45b4-b505-cd239923f58c",
   "metadata": {},
   "source": [
    "I used a lot of plots and graphs to visualize my dataset to help answer my research questions. \n",
    "\n",
    "When I created a correlation matrix, I observed that the pearson correlation coefficient, which is a measure of the linear association between two variables, had a very high value of 0.79 between the \"Medical Costs\" and the \"Smoker\" variable. This indicates that there is a positive linear correlation between the variables.\n",
    "\n",
    "A scatterplot of Medical charges by regions in the USA showed that there is not a significant difference in the medical charges amongst the different regions. To further explore this relationship, I created a boxplot and a violinplot. Both of these plots also suggested that there was no notable difference in the medical charges. However, both of these plots demonstrated that the 'southeast' region had higher medical costs, while 'southwest' seemed to have the least costs. \n",
    "\n",
    "The plots can be found below:\n",
    "![Region Plots](region.jpeg)\n",
    "\n",
    "*Note:* All of the data and code to create these plots can be found in my analysis folder (Ishita Gupta)."
   ]
  },
  {
   "cell_type": "markdown",
   "id": "6b18c4e3-fe3f-4b4d-90d4-87b1e5eada32",
   "metadata": {},
   "source": [
    "Next, I analyzed the relationship between the 'Smoker' variable and the 'Medical Charges' variable.\n",
    "\n",
    "I started by creating a boxplot of medical charges by whether the person is a smoker or not. This boxplot displayed immense evidence that a smoker has higher medical costs on average. The minimum value of the medical costs of a smoker also appears to be higher than the value of the upper quartile of a non-smoker.\n",
    "\n",
    "I also created two barplots displaying the medical charges by 'region' and 'smoker'. This was to combine both my research questions and visualize the data together. Both of the barplots confirmed the previous observations that there was not much evidence to say that a particular region had much higher medical costs and that it was very evident that a smoker had to incur more medical charges in the United States.\n",
    "\n",
    "These plots can be found below:\n",
    "![Smoker and Region Plots](smoker.jpeg)"
   ]
  },
  {
   "cell_type": "markdown",
   "id": "37957c02-9d91-4e88-93af-0aa76df88e46",
   "metadata": {},
   "source": [
    "### Conclusion:"
   ]
  },
  {
   "cell_type": "markdown",
   "id": "3e86c1e0-7895-413d-b2fd-3086f06bd544",
   "metadata": {},
   "source": [
    "Upon analyzing and visualizing the data, we can reach the following conclusions:\n",
    "\n",
    "- There does not appear to be a causal relationsip or a correlation amongst the different regions in the United States and the medical charges people incur in those areas. However, it is apparent that the 'southeast' region has a higher medical cost. This could be explored by experts, who could conduct research and collect more data to better understand this relationship.\n",
    "- There appears to be a strong correlation among whether the person is a smoker and their medical charges. However, when the data was analyzed, it was found that the number of non-smokers in the dataset were far greater than the number of smokers. This difference in the count could also be a factor in this vast difference in the medical costs."
   ]
  },
  {
   "cell_type": "code",
   "execution_count": null,
   "id": "3fd789ce-8190-4938-bed9-27b5b867c1d6",
   "metadata": {},
   "outputs": [],
   "source": []
  }
 ],
 "metadata": {
  "interpreter": {
   "hash": "86b7d0a0a034009015fa367a95e1d9a68dfe284c9f2c45b320af32cfc3bc00ed"
  },
  "kernelspec": {
   "display_name": "Python 3 (ipykernel)",
   "language": "python",
   "name": "python3"
  },
  "language_info": {
   "codemirror_mode": {
    "name": "ipython",
    "version": 3
   },
   "file_extension": ".py",
   "mimetype": "text/x-python",
   "name": "python",
   "nbconvert_exporter": "python",
   "pygments_lexer": "ipython3",
   "version": "3.8.5"
  }
 },
 "nbformat": 4,
 "nbformat_minor": 5
}
