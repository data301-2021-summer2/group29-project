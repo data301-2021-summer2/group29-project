{
 "cells": [
  {
   "cell_type": "markdown",
   "id": "fc450ab6",
   "metadata": {},
   "source": [
    "# This is where we perform the final analysis in Milestone 2"
   ]
  },
  {
   "cell_type": "markdown",
   "id": "7e48b183",
   "metadata": {},
   "source": [
    "## Prabhmeets Analysis"
   ]
  },
  {
   "cell_type": "code",
   "execution_count": null,
   "id": "2cdac197",
   "metadata": {},
   "outputs": [],
   "source": [
    "import pandas as pd\n",
    "from pandas_profiling import ProfileReport as pf\n",
    "import numpy as np\n",
    "from matplotlib import pyplot as plt\n",
    "import seaborn as sns\n",
    "%matplotlib inline\n",
    "## Using a seperate file to import our functions.\n",
    "from scripts import project_functions as fun\n",
    "%load_ext autoreload\n",
    "\n",
    "# This part processes the data without any method chaining.\n",
    "dataSet=fun.load_process_Medical_Data('./../../data/processed/Processed_Medical_Data.csv')\n",
    "dataSet"
   ]
  },
  {
   "cell_type": "code",
   "execution_count": null,
   "id": "fdc6dfad",
   "metadata": {},
   "outputs": [],
   "source": [
    "randomSample.groupby('BMI_Category')['Charges_USD'].agg(['mean','std','min', 'median','max']).round(1).T"
   ]
  },
  {
   "cell_type": "code",
   "execution_count": null,
   "id": "2535b9e3",
   "metadata": {},
   "outputs": [],
   "source": [
    "randomSample.groupby('BMI_Category').agg(['mean','std','median','min','max']).round(1).drop(columns={'bmi'})"
   ]
  },
  {
   "cell_type": "markdown",
   "id": "13d759f0",
   "metadata": {},
   "source": [
    "## The following plots show that The Obese group still has the highest median Medcial Charges , although we do not see a linear trend from underweight to obese. i.e The Overweight did not show evidence of having a higher mean that Normal people, even though Obese people did."
   ]
  },
  {
   "cell_type": "code",
   "execution_count": null,
   "id": "42834b86",
   "metadata": {},
   "outputs": [],
   "source": [
    "fig, ax =plt.subplots(2,2,figsize=(15,10))\n",
    "\n",
    "boxplot = sns.boxplot(\n",
    "\tdata = randomSample,\n",
    "\tx=\"BMI_Category\",\n",
    "\ty=\"Charges_USD\",\n",
    "\torder=['Underweight','Normal','Overweight','Obese'],\n",
    "\tax=ax[0][0]\n",
    "\n",
    ")\n",
    "boxplot.set(\n",
    "\t#yscale=\"log\",\n",
    "\txlabel=\"BMI Category\",\n",
    "\tylabel=\"Mean Medical Charges in USD\",\n",
    "\ttitle=\"Boxplot\",\n",
    ")\n",
    "logboxplot = sns.boxplot(\n",
    "\tdata = randomSample,\n",
    "\tx=\"BMI_Category\",\n",
    "\ty=\"Charges_USD\",\n",
    "\torder=['Underweight','Normal','Overweight','Obese'],\n",
    "\tax=ax[0][1],\n",
    "\n",
    ")\n",
    "logboxplot.set(\n",
    "\tyscale=\"log\",\n",
    "\txlabel=\"BMI Category\",\n",
    "\tylabel=\"Log Transformed Mean Medical Charges in USD\",\n",
    "\ttitle=\"Log Transformed Boxplot\",\n",
    ")\n",
    "barplot = sns.barplot(\n",
    "\tdata = randomSample,\n",
    "\tx=\"BMI_Category\",\n",
    "\ty=\"Charges_USD\",\n",
    "\torder=['Underweight','Normal','Overweight','Obese'],\n",
    "\tax=ax[1][0],\n",
    ")\n",
    "barplot.set(\n",
    "\txlabel=\"BMI Category\",\n",
    "\tylabel=\"Mean Medical Charges in USD\",\n",
    "\ttitle=\"Barplot\",\n",
    ")\n",
    "logbarplot = sns.barplot(\n",
    "\tdata = randomSample,\n",
    "\tx=\"BMI_Category\",\n",
    "\ty=\"Charges_USD\",\n",
    "\torder=['Underweight','Normal','Overweight','Obese'],\n",
    "\tax=ax[1][1],\n",
    ")\n",
    "logbarplot.set(\n",
    "\tyscale=\"log\",\n",
    "\txlabel=\"BMI Category\",\n",
    "\tylabel=\"Log Transformed Mean Medical Charges in USD\",\n",
    "\ttitle=\"Log Transformed Barplot\",\n",
    ")\n",
    "fig.tight_layout(h_pad=4,w_pad=10)\n",
    "plt.suptitle(\"Different plots comapring mean Medical Charges of American Citizens\",y=1.05)\n",
    "fig.show()\n"
   ]
  },
  {
   "cell_type": "markdown",
   "id": "5189b112",
   "metadata": {},
   "source": [
    "Also the scatter plot before fail to show any linear co-relation between bmi and Medical Charges.\n"
   ]
  },
  {
   "cell_type": "code",
   "execution_count": null,
   "id": "56f04348",
   "metadata": {},
   "outputs": [],
   "source": [
    "fig, ax =plt.subplots(1,2,figsize=(15,5))\n",
    "scatter1=sns.scatterplot(\n",
    "\tdata=randomSample,\n",
    "\tx=\"bmi\",\n",
    "\ty=\"Charges_USD\",\n",
    "\thue=\"BMI_Category\",\n",
    "\tax=ax[0],\n",
    "\t)\n",
    "scatter1.set(\n",
    "\txlabel=\"BMI\",\n",
    "\tylabel=\"Medical Charges in USD\",\n",
    "\ttitle=\"Normal\",\n",
    ")\n",
    "scatter1=sns.scatterplot(\n",
    "\tdata=randomSample,\n",
    "\tx=\"bmi\",\n",
    "\ty=\"Charges_USD\",\n",
    "\thue=\"BMI_Category\",\n",
    "\tax=ax[1]\n",
    "\t)\n",
    "scatter1.set(\n",
    "\tyscale=\"log\",\n",
    "\txlabel=\"BMI\",\n",
    "\tylabel=\"Medical Charges in USD\",\n",
    "\ttitle=\"Log Transformed\",\n",
    ")\n",
    "plt.suptitle(\"Scatterplot Medical Charges of American Citizens\",y=1)\n",
    "fig.show()"
   ]
  },
  {
   "cell_type": "markdown",
   "id": "aaf1e818",
   "metadata": {},
   "source": [
    "## Research Conclusion.\n",
    "- As per the data explore , having a BMI over 25 in America did not seem to be related with higher medical Expenses.\n",
    "- Although it was found that more than 50% of Americans can be categorized as Obsese as per [CDC guidelines](https://www.cdc.gov/healthyweight/assessing/index.html). Although being Obese did seem to be related to higher Medical charges, a linear relationship between BMI and higher medical expenses was not observed. "
   ]
  },
  {
   "cell_type": "markdown",
   "id": "3fd7ae6d-c325-4693-8684-1adb0a122df2",
   "metadata": {},
   "source": [
    "## Ishita's Analysis"
   ]
  },
  {
   "cell_type": "markdown",
   "id": "47f3a051-1ec9-46f3-b564-5835c9d29170",
   "metadata": {},
   "source": [
    "*My Research questions:* \n",
    "- Does the geographical location play a part in increased medical costs?\n",
    "- Is there a relationship or correlation between being a smoker and having higher medical costs?\n",
    "\n"
   ]
  },
  {
   "cell_type": "markdown",
   "id": "0059a125-dbe2-45b4-b505-cd239923f58c",
   "metadata": {},
   "source": [
    "I used a lot of plots and graphs to visualize my dataset to help answer my research questions. \n",
    "\n",
    "When I created a correlation matrix, I observed that the pearson correlation coefficient, which is a measure of the linear association between two variables, had a very high value of 0.79 between the \"Medical Costs\" and the \"Smoker\" variable. This indicates that there is a positive linear correlation between the variables.\n",
    "\n",
    "A scatterplot of Medical charges by regions in the USA showed that there is not a significant difference in the medical charges amongst the different regions. To further explore this relationship, I created a boxplot and a violinplot. Both of these plots also suggested that there was no notable difference in the medical charges. However, both of these plots demonstrated that the 'southeast' region had higher medical costs, while 'southwest' seemed to have the least costs. \n",
    "\n",
    "The plots can be found below:\n",
    "![Region Plots](region.jpeg)\n",
    "\n",
    "*Note:* All of the data and code to create these plots can be found in my analysis folder (Ishita Gupta)."
   ]
  },
  {
   "cell_type": "markdown",
   "id": "6b18c4e3-fe3f-4b4d-90d4-87b1e5eada32",
   "metadata": {},
   "source": [
    "Next, I analyzed the relationship between the 'Smoker' variable and the 'Medical Charges' variable.\n",
    "\n",
    "I started by creating a boxplot of medical charges by whether the person is a smoker or not. This boxplot displayed immense evidence that a smoker has higher medical costs on average. The minimum value of the medical costs of a smoker also appears to be higher than the value of the upper quartile of a non-smoker.\n",
    "\n",
    "I also created two barplots displaying the medical charges by 'region' and 'smoker'. This was to combine both my research questions and visualize the data together. Both of the barplots confirmed the previous observations that there was not much evidence to say that a particular region had much higher medical costs and that it was very evident that a smoker had to incur more medical charges in the United States.\n",
    "\n",
    "These plots can be found below:\n",
    "![Smoker and Region Plots](smoker.jpeg)"
   ]
  },
  {
   "cell_type": "markdown",
   "id": "37957c02-9d91-4e88-93af-0aa76df88e46",
   "metadata": {},
   "source": [
    "### Conclusion:"
   ]
  },
  {
   "cell_type": "markdown",
   "id": "3e86c1e0-7895-413d-b2fd-3086f06bd544",
   "metadata": {},
   "source": [
    "Upon analyzing and visualizing the data, we can reach the following conclusions:\n",
    "\n",
    "- There does not appear to be a causal relationsip or a correlation amongst the different regions in the United States and the medical charges people incur in those areas. However, it is apparent that the 'southeast' region has a higher medical cost. This could be explored by experts, who could conduct research and collect more data to better understand this relationship.\n",
    "- There appears to be a strong correlation among whether the person is a smoker and their medical charges. However, when the data was analyzed, it was found that the number of non-smokers in the dataset were far greater than the number of smokers. This difference in the count could also be a factor in this vast difference in the medical costs."
   ]
  },
  {
   "cell_type": "code",
   "execution_count": null,
   "id": "3fd789ce-8190-4938-bed9-27b5b867c1d6",
   "metadata": {},
   "outputs": [],
   "source": []
  }
 ],
 "metadata": {
  "interpreter": {
   "hash": "86b7d0a0a034009015fa367a95e1d9a68dfe284c9f2c45b320af32cfc3bc00ed"
  },
  "kernelspec": {
   "display_name": "Python 3 (ipykernel)",
   "language": "python",
   "name": "python3"
  },
  "language_info": {
   "codemirror_mode": {
    "name": "ipython",
    "version": 3
   },
   "file_extension": ".py",
   "mimetype": "text/x-python",
   "name": "python",
   "nbconvert_exporter": "python",
   "pygments_lexer": "ipython3",
   "version": "3.8.5"
  }
 },
 "nbformat": 4,
 "nbformat_minor": 5
}
