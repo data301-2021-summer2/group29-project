{
 "cells": [
  {
   "cell_type": "markdown",
   "source": [
    "# This is where we perform the final analysis in Milestone 2"
   ],
   "metadata": {}
  },
  {
   "cell_type": "markdown",
   "source": [
    "## Prabhmeets Analysis"
   ],
   "metadata": {}
  },
  {
   "cell_type": "code",
   "execution_count": null,
   "source": [
    "import pandas as pd\n",
    "from pandas_profiling import ProfileReport as pf\n",
    "import numpy as np\n",
    "from matplotlib import pyplot as plt\n",
    "import seaborn as sns\n",
    "%matplotlib inline\n",
    "## Using a seperate file to import our functions.\n",
    "from scripts import project_functions as fun\n",
    "%load_ext autoreload\n",
    "\n",
    "# This part processes the data without any method chaining.\n",
    "dataSet=fun.load_process_Medical_Data('./../../data/processed/Processed_Medical_Data.csv')\n",
    "dataSet"
   ],
   "outputs": [],
   "metadata": {}
  },
  {
   "cell_type": "code",
   "execution_count": null,
   "source": [
    "randomSample.groupby('BMI_Category')['Charges_USD'].agg(['mean','std','min', 'median','max']).round(1).T"
   ],
   "outputs": [],
   "metadata": {}
  },
  {
   "cell_type": "code",
   "execution_count": null,
   "source": [
    "randomSample.groupby('BMI_Category').agg(['mean','std','median','min','max']).round(1).drop(columns={'bmi'})"
   ],
   "outputs": [],
   "metadata": {}
  },
  {
   "cell_type": "markdown",
   "source": [
    "## The following plots show that The Obese group still has the highest median Medcial Charges , although we do not see a linear trend from underweight to obese. i.e The Overweight did not show evidence of having a higher mean that Normal people, even though Obese people did."
   ],
   "metadata": {}
  },
  {
   "cell_type": "code",
   "execution_count": null,
   "source": [
    "fig, ax =plt.subplots(2,2,figsize=(15,10))\n",
    "\n",
    "boxplot = sns.boxplot(\n",
    "\tdata = randomSample,\n",
    "\tx=\"BMI_Category\",\n",
    "\ty=\"Charges_USD\",\n",
    "\torder=['Underweight','Normal','Overweight','Obese'],\n",
    "\tax=ax[0][0]\n",
    "\n",
    ")\n",
    "boxplot.set(\n",
    "\t#yscale=\"log\",\n",
    "\txlabel=\"BMI Category\",\n",
    "\tylabel=\"Mean Medical Charges in USD\",\n",
    "\ttitle=\"Boxplot\",\n",
    ")\n",
    "logboxplot = sns.boxplot(\n",
    "\tdata = randomSample,\n",
    "\tx=\"BMI_Category\",\n",
    "\ty=\"Charges_USD\",\n",
    "\torder=['Underweight','Normal','Overweight','Obese'],\n",
    "\tax=ax[0][1],\n",
    "\n",
    ")\n",
    "logboxplot.set(\n",
    "\tyscale=\"log\",\n",
    "\txlabel=\"BMI Category\",\n",
    "\tylabel=\"Log Transformed Mean Medical Charges in USD\",\n",
    "\ttitle=\"Log Transformed Boxplot\",\n",
    ")\n",
    "barplot = sns.barplot(\n",
    "\tdata = randomSample,\n",
    "\tx=\"BMI_Category\",\n",
    "\ty=\"Charges_USD\",\n",
    "\torder=['Underweight','Normal','Overweight','Obese'],\n",
    "\tax=ax[1][0],\n",
    ")\n",
    "barplot.set(\n",
    "\txlabel=\"BMI Category\",\n",
    "\tylabel=\"Mean Medical Charges in USD\",\n",
    "\ttitle=\"Barplot\",\n",
    ")\n",
    "logbarplot = sns.barplot(\n",
    "\tdata = randomSample,\n",
    "\tx=\"BMI_Category\",\n",
    "\ty=\"Charges_USD\",\n",
    "\torder=['Underweight','Normal','Overweight','Obese'],\n",
    "\tax=ax[1][1],\n",
    ")\n",
    "logbarplot.set(\n",
    "\tyscale=\"log\",\n",
    "\txlabel=\"BMI Category\",\n",
    "\tylabel=\"Log Transformed Mean Medical Charges in USD\",\n",
    "\ttitle=\"Log Transformed Barplot\",\n",
    ")\n",
    "fig.tight_layout(h_pad=4,w_pad=10)\n",
    "plt.suptitle(\"Different plots comapring mean Medical Charges of American Citizens\",y=1.05)\n",
    "fig.show()\n"
   ],
   "outputs": [],
   "metadata": {}
  },
  {
   "cell_type": "markdown",
   "source": [
    "Also the scatter plot before fail to show any linear co-relation between bmi and Medical Charges.\n"
   ],
   "metadata": {}
  },
  {
   "cell_type": "code",
   "execution_count": null,
   "source": [
    "fig, ax =plt.subplots(1,2,figsize=(15,5))\n",
    "scatter1=sns.scatterplot(\n",
    "\tdata=randomSample,\n",
    "\tx=\"bmi\",\n",
    "\ty=\"Charges_USD\",\n",
    "\thue=\"BMI_Category\",\n",
    "\tax=ax[0],\n",
    "\t)\n",
    "scatter1.set(\n",
    "\txlabel=\"BMI\",\n",
    "\tylabel=\"Medical Charges in USD\",\n",
    "\ttitle=\"Normal\",\n",
    ")\n",
    "scatter1=sns.scatterplot(\n",
    "\tdata=randomSample,\n",
    "\tx=\"bmi\",\n",
    "\ty=\"Charges_USD\",\n",
    "\thue=\"BMI_Category\",\n",
    "\tax=ax[1]\n",
    "\t)\n",
    "scatter1.set(\n",
    "\tyscale=\"log\",\n",
    "\txlabel=\"BMI\",\n",
    "\tylabel=\"Medical Charges in USD\",\n",
    "\ttitle=\"Log Transformed\",\n",
    ")\n",
    "plt.suptitle(\"Scatterplot Medical Charges of American Citizens\",y=1)\n",
    "fig.show()"
   ],
   "outputs": [],
   "metadata": {}
  },
  {
   "cell_type": "markdown",
   "source": [
    "## Research Conclusion.\n",
    "- As per the data explore , having a BMI over 25 in America did not seem to be related with higher medical Expenses.\n",
    "- Although it was found that more than 50% of Americans can be categorized as Obsese as per [CDC guidelines](https://www.cdc.gov/healthyweight/assessing/index.html). Although being Obese did seem to be related to higher Medical charges, a linear relationship between BMI and higher medical expenses was not observed. "
   ],
   "metadata": {}
  }
 ],
 "metadata": {
  "kernelspec": {
   "name": "python3",
   "display_name": "Python 3.8.5 64-bit ('base': conda)"
  },
  "language_info": {
   "codemirror_mode": {
    "name": "ipython",
    "version": 3
   },
   "file_extension": ".py",
   "mimetype": "text/x-python",
   "name": "python",
   "nbconvert_exporter": "python",
   "pygments_lexer": "ipython3",
   "version": "3.8.5"
  },
  "interpreter": {
   "hash": "86b7d0a0a034009015fa367a95e1d9a68dfe284c9f2c45b320af32cfc3bc00ed"
  }
 },
 "nbformat": 4,
 "nbformat_minor": 5
}