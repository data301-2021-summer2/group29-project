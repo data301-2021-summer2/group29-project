{
 "cells": [
  {
   "cell_type": "markdown",
   "id": "7a0b0947-07cf-423d-8483-fff9c353466e",
   "metadata": {},
   "source": [
    "# This is the file where I conduct my final analysis (Task 4)"
   ]
  },
  {
   "cell_type": "markdown",
   "id": "5fc9c3cc-5a0f-43b9-b4e2-d99a308d9d10",
   "metadata": {},
   "source": [
    "*My Research questions:*\n",
    "- Does the geographical location play a part in increased medical costs?\n",
    "- Is there a relationship or correlation between being a smoker and having higher medical costs?\n"
   ]
  },
  {
   "cell_type": "markdown",
   "id": "a01602a3-f498-4020-a99f-9c1147cd1578",
   "metadata": {},
   "source": [
    "I used a lot of plots and graphs to visualize my dataset to help answer my research questions.\n",
    "\n",
    "When I created a correlation matrix, I observed that the pearson correlation coefficient, which is a measure of the linear association between two variables, had a very high value of 0.79 between the \\\"Medical Costs\\\" and the \\\"Smoker\\\" variable. This indicates that there is a positive linear correlation between the variables.\n",
    "\n",
    "A scatterplot of Medical charges by regions in the USA showed that there is not a significant difference in the medical charges amongst the different regions. To further explore this relationship, I created a boxplot and a violinplot. Both of these plots also suggested that there was no notable difference in the medical charges. However, both of these plots demonstrated that the 'southeast' region had higher medical costs, while 'southwest' seemed to have the least costs.\n",
    "\n",
    "The plots can be found below:\n",
    "\n",
    "![Region Plots](region.jpeg)\n",
    "\n",
    "*Note:*\n",
    "- All of the data and code used to create these plots can be found in my analysis folder (Ishita Gupta).\n",
    "- If the above image is not visible on GitHub, it can be viewed by going to ../analysis/region.jpeg"
   ]
  },
  {
   "cell_type": "markdown",
   "id": "e811629b-762a-48ae-beef-eaa9893fa47d",
   "metadata": {},
   "source": [
    "Next, I analyzed the relationship between the 'Smoker' variable and the 'Medical Charges' variable.\n",
    "\n",
    "I started by creating a boxplot of medical charges by whether the person is a smoker or not. This boxplot displayed immense evidence that a smoker has higher medical costs on average. The minimum value of the medical costs of a smoker also appears to be higher than the value of the upper quartile of a non-smoker.\n",
    "\n",
    "I also created two barplots displaying the medical charges by 'region' and 'smoker'. This was to combine both my research questions and visualize the data together. Both of the barplots confirmed the previous observations that there was not much evidence to say that a particular region had much higher medical costs and that it was very evident that a smoker had to incur more medical charges in the United States.\n",
    "\n",
    "These plots can be found below:\n",
    "\n",
    "![Smoker and Region Plots](smoker.jpeg)\n",
    "\n",
    "*Note:* If the above image is not visible on GitHub, it can be viewed by going to ../analysis/smoker.jpeg"
   ]
  },
  {
   "cell_type": "markdown",
   "id": "1c392b2c-5f4a-4055-978f-21f4659b4b56",
   "metadata": {},
   "source": [
    "### Conclusion:"
   ]
  },
  {
   "cell_type": "markdown",
   "id": "bd1a4cb7-a3ef-4315-b1a3-7d9a28907bca",
   "metadata": {},
   "source": [
    "Upon analyzing and visualizing the data, we can reach the following conclusions:\n",
    "\n",
    "- There does not appear to be a causal relationsip or a correlation amongst the different regions in the United States and the medical charges people incur in those areas. However, it is apparent that the 'southeast' region has a higher medical cost. This could be explored by experts, who could conduct research and collect more data to better understand this relationship.\n",
    "- There appears to be a strong correlation among whether the person is a smoker and their medical charges. However, when the data was analyzed, it was found that the number of non-smokers in the dataset were far greater than the number of smokers. This difference in the count could also be a factor in this vast difference in the medical costs."
   ]
  }
 ],
 "metadata": {
  "kernelspec": {
   "display_name": "Python 3 (ipykernel)",
   "language": "python",
   "name": "python3"
  },
  "language_info": {
   "codemirror_mode": {
    "name": "ipython",
    "version": 3
   },
   "file_extension": ".py",
   "mimetype": "text/x-python",
   "name": "python",
   "nbconvert_exporter": "python",
   "pygments_lexer": "ipython3",
   "version": "3.8.5"
  }
 },
 "nbformat": 4,
 "nbformat_minor": 5
}
