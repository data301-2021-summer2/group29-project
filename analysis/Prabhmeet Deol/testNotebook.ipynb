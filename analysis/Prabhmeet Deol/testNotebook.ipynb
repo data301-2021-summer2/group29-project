{
 "cells": [
  {
   "cell_type": "code",
   "execution_count": 1,
   "source": [
    "import pandas as pd\n",
    "import numpy as np\n",
    "import matplotlib as plt\n",
    "import seaborn as sns\n",
    "%matplotlib inline\n",
    "\n",
    "def load_process_Medical_Data(dataSet):\n",
    "\tdataSet = (\n",
    "\t\tpd.read_csv('./data/Medical_Cost.csv')\n",
    "\t \t.loc[:,['age','bmi','charges']]\n",
    "\t \t.rename(columns={'charges':\"Charges_USD\"})\n",
    "\t \t.round({'bmi': 2, 'Charges_USD': 1})\n",
    "\t\t)\n",
    "\n",
    "\tdataSet['BMI_Category'] = dataSet.apply(categorizeBmi,axis='columns')\n",
    "\n",
    "\treturn dataSet\n"
   ],
   "outputs": [],
   "metadata": {}
  }
 ],
 "metadata": {
  "orig_nbformat": 4,
  "language_info": {
   "name": "python",
   "version": "3.8.5",
   "mimetype": "text/x-python",
   "codemirror_mode": {
    "name": "ipython",
    "version": 3
   },
   "pygments_lexer": "ipython3",
   "nbconvert_exporter": "python",
   "file_extension": ".py"
  },
  "kernelspec": {
   "name": "python3",
   "display_name": "Python 3.8.5 64-bit ('base': conda)"
  },
  "interpreter": {
   "hash": "86b7d0a0a034009015fa367a95e1d9a68dfe284c9f2c45b320af32cfc3bc00ed"
  }
 },
 "nbformat": 4,
 "nbformat_minor": 2
}