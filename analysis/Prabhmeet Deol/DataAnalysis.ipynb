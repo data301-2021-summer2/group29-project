{
 "cells": [
  {
   "cell_type": "markdown",
   "source": [
    "## This is an analysis of the Medical Cost dataset, by Prabhmeet Singh Deol."
   ],
   "metadata": {}
  },
  {
   "cell_type": "markdown",
   "source": [
    "First we will import pandas, and use it to read the dataset."
   ],
   "metadata": {}
  },
  {
   "cell_type": "code",
   "execution_count": 2,
   "source": [
    "import pandas as pd\n",
    "\n",
    "dataSet = pd.read_csv('/Users/deol/Courses/DATA 301/LAB Projects/project-group29/data/raw/Medical_Cost.csv')"
   ],
   "outputs": [],
   "metadata": {}
  },
  {
   "cell_type": "code",
   "execution_count": 5,
   "source": [
    "## This will give us an overvoiew of the Data.\n",
    "dataSet.head(10)\n",
    "## This will tell us the (#Rows,#Columns) of the dataset\n",
    "dataSet.shape"
   ],
   "outputs": [
    {
     "output_type": "execute_result",
     "data": {
      "text/plain": [
       "(1338, 7)"
      ]
     },
     "metadata": {},
     "execution_count": 5
    }
   ],
   "metadata": {}
  },
  {
   "cell_type": "markdown",
   "source": [
    "### Now we will try to clean up the data."
   ],
   "metadata": {}
  },
  {
   "cell_type": "code",
   "execution_count": null,
   "source": [],
   "outputs": [],
   "metadata": {}
  }
 ],
 "metadata": {
  "orig_nbformat": 4,
  "language_info": {
   "name": "python"
  }
 },
 "nbformat": 4,
 "nbformat_minor": 2
}