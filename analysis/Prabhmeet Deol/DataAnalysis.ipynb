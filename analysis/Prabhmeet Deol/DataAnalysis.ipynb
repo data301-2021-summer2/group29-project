{
 "cells": [
  {
   "cell_type": "markdown",
   "source": [
    "## This is an analysis of the Medical Cost dataset, by Prabhmeet Singh Deol."
   ],
   "metadata": {}
  },
  {
   "cell_type": "markdown",
   "source": [
    "First we will import pandas, and use it to read the dataset."
   ],
   "metadata": {}
  },
  {
   "cell_type": "code",
   "execution_count": 2,
   "source": [
    "import pandas as pd\n",
    "import numpy as np\n",
    "\n",
    "dataSet = pd.read_csv('./data/Medical_Cost.csv')"
   ],
   "outputs": [],
   "metadata": {}
  },
  {
   "cell_type": "code",
   "execution_count": 3,
   "source": [
    "dataSet2 = pd.read_csv('./data/Medical_Cost.csv').isnull()\n",
    "\n",
    "list1 = [0,1,2,4,5]\n",
    "\n",
    "\n"
   ],
   "outputs": [],
   "metadata": {}
  },
  {
   "cell_type": "code",
   "execution_count": 32,
   "source": [
    "dataSet2[dataSet2['bmi'].isnull()].index.tolist()\n",
    "df = pd.DataFrame([[1,      np.nan, 2],\n",
    "                   [2,      3,      5],\n",
    "                   [np.nan, 4,      6]])\n",
    "df"
   ],
   "outputs": [
    {
     "output_type": "execute_result",
     "data": {
      "text/plain": [
       "     0    1  2\n",
       "0  1.0  NaN  2\n",
       "1  2.0  3.0  5\n",
       "2  NaN  4.0  6"
      ],
      "text/html": [
       "<div>\n",
       "<style scoped>\n",
       "    .dataframe tbody tr th:only-of-type {\n",
       "        vertical-align: middle;\n",
       "    }\n",
       "\n",
       "    .dataframe tbody tr th {\n",
       "        vertical-align: top;\n",
       "    }\n",
       "\n",
       "    .dataframe thead th {\n",
       "        text-align: right;\n",
       "    }\n",
       "</style>\n",
       "<table border=\"1\" class=\"dataframe\">\n",
       "  <thead>\n",
       "    <tr style=\"text-align: right;\">\n",
       "      <th></th>\n",
       "      <th>0</th>\n",
       "      <th>1</th>\n",
       "      <th>2</th>\n",
       "    </tr>\n",
       "  </thead>\n",
       "  <tbody>\n",
       "    <tr>\n",
       "      <th>0</th>\n",
       "      <td>1.0</td>\n",
       "      <td>NaN</td>\n",
       "      <td>2</td>\n",
       "    </tr>\n",
       "    <tr>\n",
       "      <th>1</th>\n",
       "      <td>2.0</td>\n",
       "      <td>3.0</td>\n",
       "      <td>5</td>\n",
       "    </tr>\n",
       "    <tr>\n",
       "      <th>2</th>\n",
       "      <td>NaN</td>\n",
       "      <td>4.0</td>\n",
       "      <td>6</td>\n",
       "    </tr>\n",
       "  </tbody>\n",
       "</table>\n",
       "</div>"
      ]
     },
     "metadata": {},
     "execution_count": 32
    }
   ],
   "metadata": {}
  },
  {
   "cell_type": "code",
   "execution_count": null,
   "source": [
    "## This will give us an overvoiew of the Data.\n",
    "dataSet.head(10)\n",
    "## This will tell us the (#Rows,#Columns) of the dataset\n",
    "#dataSet.shape"
   ],
   "outputs": [],
   "metadata": {}
  },
  {
   "cell_type": "markdown",
   "source": [
    "## Now we will add a column, that categorizes peoples BMI as high , low , or "
   ],
   "metadata": {}
  },
  {
   "cell_type": "code",
   "execution_count": null,
   "source": [
    "dataSet.keys()"
   ],
   "outputs": [],
   "metadata": {}
  },
  {
   "cell_type": "code",
   "execution_count": null,
   "source": [
    "def categorizeBmi(bmiSet):\n",
    "\tbmi = bmiSet['bmi']\n",
    "\tif bmi <18.5:\n",
    "\t\treturn \"Underweight\"\n",
    "\telif bmi < 24.9:\n",
    "\t\treturn \"Normal/Healthy\"\n",
    "\telif bmi <29.9:\n",
    "\t\treturn \"Overweight\"\n",
    "\telif bmi > 30.0:\n",
    "\t\treturn \"Obese\"\n",
    "\t\n",
    "\n"
   ],
   "outputs": [],
   "metadata": {}
  },
  {
   "cell_type": "markdown",
   "source": [
    "### Now we will create a new column using the above function."
   ],
   "metadata": {}
  },
  {
   "cell_type": "code",
   "execution_count": null,
   "source": [
    "dataSet['bmi_Category'] = dataSet.apply(categorizeBmi,axis='columns')\n",
    "dataSet"
   ],
   "outputs": [],
   "metadata": {}
  },
  {
   "cell_type": "code",
   "execution_count": null,
   "source": [
    "dataSet=dataSet.apply(categorize_Bmi = (categorizeBmi(dataSet['bmi'])))\n",
    "dataSet.head()"
   ],
   "outputs": [],
   "metadata": {}
  },
  {
   "cell_type": "markdown",
   "source": [
    "### Now we will try to clean up the data."
   ],
   "metadata": {}
  },
  {
   "cell_type": "code",
   "execution_count": null,
   "source": [
    "## This is slicing , we specify the rows first and then the column.\n",
    "sliceData = dataSet.iloc[0:6,[1,2,3,6]]\n",
    "sliceData"
   ],
   "outputs": [],
   "metadata": {}
  },
  {
   "cell_type": "markdown",
   "source": [
    "Now we will try sorting the data."
   ],
   "metadata": {}
  },
  {
   "cell_type": "code",
   "execution_count": null,
   "source": [
    "sortCharges = dataSet.sort_values(by=\"charges\")\n",
    "sortCharges"
   ],
   "outputs": [],
   "metadata": {}
  },
  {
   "cell_type": "code",
   "execution_count": null,
   "source": [
    "## Lets calculate summary statistics.\n",
    "## include = \"all\" parameter shows the summary for all the variables.\n",
    "describe=dataSet.describe()\n",
    "describe\n",
    "## This function only works for numerical values."
   ],
   "outputs": [],
   "metadata": {}
  },
  {
   "cell_type": "code",
   "execution_count": null,
   "source": [
    "## Now we will calculate the mean of a dataSet.\n",
    "meanOfDataSet=dataSet[[\"region\"]].value_counts()\n",
    "test = dataSet.iloc[:,[2,1,6]]\n",
    "test"
   ],
   "outputs": [],
   "metadata": {}
  },
  {
   "cell_type": "markdown",
   "source": [
    "#### Exporting dataframes into .csv files."
   ],
   "metadata": {}
  },
  {
   "cell_type": "code",
   "execution_count": null,
   "source": [
    "## first we specify : dataset.to_cs(\"targetFileName\",index=True), index value is true by default.\n",
    "## also the files will be store in the same directory as the current jupyter notebook.\n",
    "test.to_csv(\"testName2.csv\")"
   ],
   "outputs": [],
   "metadata": {}
  },
  {
   "cell_type": "markdown",
   "source": [
    "## Creating graphs using Altair."
   ],
   "metadata": {}
  },
  {
   "cell_type": "code",
   "execution_count": null,
   "source": [
    "import altair\n",
    "test"
   ],
   "outputs": [],
   "metadata": {}
  },
  {
   "cell_type": "code",
   "execution_count": null,
   "source": [
    "chart0 = altair.Chart(dataSet,width=500, height=300).mark_bar(opacity=0.5,size=60).encode(\n",
    "\t## We specify the x and y variables in the encoding section.\n",
    "\tx = 'bmi_Category',\n",
    "\t## We can also pass function to the y axis , that get carried out on the x axis variable.\n",
    "\ty = 'count()',\n",
    "\tcolor = 'bmi_Category'\n",
    ")\n",
    "\n",
    "chart0 = chart0.properties(\n",
    "\ttitle = \"Frequency of different BMI Category in US Citizens.\"\n",
    ")\n",
    "\n",
    "chart0"
   ],
   "outputs": [],
   "metadata": {}
  }
 ],
 "metadata": {
  "kernelspec": {
   "display_name": "Python 3 (ipykernel)",
   "language": "python",
   "name": "python3"
  },
  "language_info": {
   "codemirror_mode": {
    "name": "ipython",
    "version": 3
   },
   "file_extension": ".py",
   "mimetype": "text/x-python",
   "name": "python",
   "nbconvert_exporter": "python",
   "pygments_lexer": "ipython3",
   "version": "3.8.5"
  }
 },
 "nbformat": 4,
 "nbformat_minor": 4
}