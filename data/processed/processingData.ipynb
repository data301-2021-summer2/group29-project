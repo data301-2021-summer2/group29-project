{
 "cells": [
  {
   "cell_type": "markdown",
   "source": [
    "## First We will allow the pandas library that will allow us to load the dataset , and process it at the same time."
   ],
   "metadata": {}
  },
  {
   "cell_type": "code",
   "execution_count": 2,
   "source": [
    "import pandas as pd\t"
   ],
   "outputs": [],
   "metadata": {}
  },
  {
   "cell_type": "markdown",
   "source": [
    "## Since we do not have any na value, to drop we do not have to drop any rows. Also we can drop extra columns such as children, sex and age(With the code below). \n",
    "\n",
    "## Later we will just save the changes to a processed csv file using pandas."
   ],
   "metadata": {}
  },
  {
   "cell_type": "code",
   "execution_count": 3,
   "source": [
    "dataSet = pd.read_csv('../raw/Medical_Cost.csv').loc[:,['bmi','region','charges']].dropna().drop_duplicates(keep='first')\n",
    "dataSet.to_csv('./Processed_Medical_Data.csv')"
   ],
   "outputs": [],
   "metadata": {}
  }
 ],
 "metadata": {
  "orig_nbformat": 4,
  "language_info": {
   "name": "python",
   "version": "3.8.5",
   "mimetype": "text/x-python",
   "codemirror_mode": {
    "name": "ipython",
    "version": 3
   },
   "pygments_lexer": "ipython3",
   "nbconvert_exporter": "python",
   "file_extension": ".py"
  },
  "kernelspec": {
   "name": "python3",
   "display_name": "Python 3.8.5 64-bit ('base': conda)"
  },
  "interpreter": {
   "hash": "86b7d0a0a034009015fa367a95e1d9a68dfe284c9f2c45b320af32cfc3bc00ed"
  }
 },
 "nbformat": 4,
 "nbformat_minor": 2
}